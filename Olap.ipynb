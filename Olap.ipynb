{
 "cells": [
  {
   "cell_type": "code",
   "execution_count": 2,
   "id": "09ca74f6",
   "metadata": {},
   "outputs": [],
   "source": [
    "import psycopg2\n",
    "import pandas as pd\n",
    "import psycopg2.extras"
   ]
  },
  {
   "cell_type": "code",
   "execution_count": null,
   "id": "11476bd0",
   "metadata": {},
   "outputs": [],
   "source": []
  },
  {
   "cell_type": "code",
   "execution_count": 3,
   "id": "3b01c9f6",
   "metadata": {},
   "outputs": [],
   "source": [
    "class PostgresConnection(object):\n",
    "    def __init__(self):\n",
    "        self.connection = psycopg2.connect(database =\"postgres\",\n",
    "                                           user=\"postgres\",\n",
    "                                           password='',\n",
    "                                           host=\"127.0.0.1\",\n",
    "                                           port=\"5432\")\n",
    "    def getConnection(self):\n",
    "        print(\"succesfully connected to database\")\n",
    "        return self.connection\n",
    "        "
   ]
  },
  {
   "cell_type": "code",
   "execution_count": 4,
   "id": "145d43e9",
   "metadata": {},
   "outputs": [
    {
     "name": "stdout",
     "output_type": "stream",
     "text": [
      "succesfully connected to database\n"
     ]
    }
   ],
   "source": [
    "con = PostgresConnection().getConnection()"
   ]
  },
  {
   "cell_type": "markdown",
   "id": "e89b7408",
   "metadata": {},
   "source": [
    "# Q1"
   ]
  },
  {
   "cell_type": "code",
   "execution_count": 5,
   "id": "798b94db",
   "metadata": {},
   "outputs": [],
   "source": [
    "import pandas as pd\n",
    "from sqlalchemy import create_engine"
   ]
  },
  {
   "cell_type": "code",
   "execution_count": 6,
   "id": "a7f73fd7",
   "metadata": {},
   "outputs": [
    {
     "name": "stdout",
     "output_type": "stream",
     "text": [
      "succesfully connected to database\n"
     ]
    },
    {
     "data": {
      "text/html": [
       "<div>\n",
       "<style scoped>\n",
       "    .dataframe tbody tr th:only-of-type {\n",
       "        vertical-align: middle;\n",
       "    }\n",
       "\n",
       "    .dataframe tbody tr th {\n",
       "        vertical-align: top;\n",
       "    }\n",
       "\n",
       "    .dataframe thead th {\n",
       "        text-align: right;\n",
       "    }\n",
       "</style>\n",
       "<table border=\"1\" class=\"dataframe\">\n",
       "  <thead>\n",
       "    <tr style=\"text-align: right;\">\n",
       "      <th></th>\n",
       "      <th>division</th>\n",
       "      <th>district</th>\n",
       "      <th>year</th>\n",
       "      <th>month</th>\n",
       "      <th>total_sale_price</th>\n",
       "    </tr>\n",
       "  </thead>\n",
       "  <tbody>\n",
       "    <tr>\n",
       "      <th>0</th>\n",
       "      <td>BARISAL</td>\n",
       "      <td>BARGUNA</td>\n",
       "      <td>2014</td>\n",
       "      <td>1</td>\n",
       "      <td>3319.25</td>\n",
       "    </tr>\n",
       "    <tr>\n",
       "      <th>1</th>\n",
       "      <td>BARISAL</td>\n",
       "      <td>BARGUNA</td>\n",
       "      <td>2014</td>\n",
       "      <td>2</td>\n",
       "      <td>10521.25</td>\n",
       "    </tr>\n",
       "    <tr>\n",
       "      <th>2</th>\n",
       "      <td>BARISAL</td>\n",
       "      <td>BARGUNA</td>\n",
       "      <td>2014</td>\n",
       "      <td>3</td>\n",
       "      <td>10872.50</td>\n",
       "    </tr>\n",
       "    <tr>\n",
       "      <th>3</th>\n",
       "      <td>BARISAL</td>\n",
       "      <td>BARGUNA</td>\n",
       "      <td>2014</td>\n",
       "      <td>4</td>\n",
       "      <td>11095.25</td>\n",
       "    </tr>\n",
       "    <tr>\n",
       "      <th>4</th>\n",
       "      <td>BARISAL</td>\n",
       "      <td>BARGUNA</td>\n",
       "      <td>2014</td>\n",
       "      <td>5</td>\n",
       "      <td>10385.25</td>\n",
       "    </tr>\n",
       "    <tr>\n",
       "      <th>...</th>\n",
       "      <td>...</td>\n",
       "      <td>...</td>\n",
       "      <td>...</td>\n",
       "      <td>...</td>\n",
       "      <td>...</td>\n",
       "    </tr>\n",
       "    <tr>\n",
       "      <th>5435</th>\n",
       "      <td>SYLHET</td>\n",
       "      <td>SYLHET</td>\n",
       "      <td>2020</td>\n",
       "      <td>9</td>\n",
       "      <td>21492.25</td>\n",
       "    </tr>\n",
       "    <tr>\n",
       "      <th>5436</th>\n",
       "      <td>SYLHET</td>\n",
       "      <td>SYLHET</td>\n",
       "      <td>2020</td>\n",
       "      <td>10</td>\n",
       "      <td>21373.25</td>\n",
       "    </tr>\n",
       "    <tr>\n",
       "      <th>5437</th>\n",
       "      <td>SYLHET</td>\n",
       "      <td>SYLHET</td>\n",
       "      <td>2020</td>\n",
       "      <td>11</td>\n",
       "      <td>17835.25</td>\n",
       "    </tr>\n",
       "    <tr>\n",
       "      <th>5438</th>\n",
       "      <td>SYLHET</td>\n",
       "      <td>SYLHET</td>\n",
       "      <td>2020</td>\n",
       "      <td>12</td>\n",
       "      <td>21289.00</td>\n",
       "    </tr>\n",
       "    <tr>\n",
       "      <th>5439</th>\n",
       "      <td>SYLHET</td>\n",
       "      <td>SYLHET</td>\n",
       "      <td>2021</td>\n",
       "      <td>1</td>\n",
       "      <td>12305.25</td>\n",
       "    </tr>\n",
       "  </tbody>\n",
       "</table>\n",
       "<p>5440 rows × 5 columns</p>\n",
       "</div>"
      ],
      "text/plain": [
       "     division district  year  month  total_sale_price\n",
       "0     BARISAL  BARGUNA  2014      1           3319.25\n",
       "1     BARISAL  BARGUNA  2014      2          10521.25\n",
       "2     BARISAL  BARGUNA  2014      3          10872.50\n",
       "3     BARISAL  BARGUNA  2014      4          11095.25\n",
       "4     BARISAL  BARGUNA  2014      5          10385.25\n",
       "...       ...      ...   ...    ...               ...\n",
       "5435   SYLHET   SYLHET  2020      9          21492.25\n",
       "5436   SYLHET   SYLHET  2020     10          21373.25\n",
       "5437   SYLHET   SYLHET  2020     11          17835.25\n",
       "5438   SYLHET   SYLHET  2020     12          21289.00\n",
       "5439   SYLHET   SYLHET  2021      1          12305.25\n",
       "\n",
       "[5440 rows x 5 columns]"
      ]
     },
     "metadata": {},
     "output_type": "display_data"
    }
   ],
   "source": [
    "con = PostgresConnection().getConnection()\n",
    "from IPython.display import display\n",
    "\n",
    "# your code to generate the dataframe\n",
    "\n",
    "\n",
    "query = '''\n",
    "SELECT \n",
    "    s.division, s.district, \n",
    "    t.year, t.month, \n",
    "    SUM(f.total_price) AS total_sale_price \n",
    "FROM \n",
    "    ecomdb.Fact_table f \n",
    "    JOIN ecomdb.Time_dim t ON f.time_key = t.time_key \n",
    "    JOIN ecomdb.Item_dim i ON f.item_key = i.item_key \n",
    "    JOIN ecomdb.Customer_dim c ON f.customer_key = c.customer_key \n",
    "    JOIN ecomdb.store_dim s ON f.store_key = s.store_key \n",
    "GROUP BY \n",
    "    s.division, s.district, t.year, t.month \n",
    "ORDER BY \n",
    "    s.division, s.district, t.year, t.month;\n",
    "'''\n",
    "\n",
    "# Load the query results into a pandas dataframe\n",
    "df = pd.read_sql_query(query, con)\n",
    "\n",
    "# Close the database connection\n",
    "con.close()\n",
    "\n",
    "# Show the resulting dataframe\n",
    "display(df)"
   ]
  },
  {
   "cell_type": "markdown",
   "id": "2bb2cf90",
   "metadata": {},
   "source": [
    "# Q2"
   ]
  },
  {
   "cell_type": "code",
   "execution_count": 7,
   "id": "bcc053b4",
   "metadata": {
    "scrolled": true
   },
   "outputs": [
    {
     "name": "stdout",
     "output_type": "stream",
     "text": [
      "succesfully connected to database\n"
     ]
    },
    {
     "data": {
      "text/html": [
       "<div>\n",
       "<style scoped>\n",
       "    .dataframe tbody tr th:only-of-type {\n",
       "        vertical-align: middle;\n",
       "    }\n",
       "\n",
       "    .dataframe tbody tr th {\n",
       "        vertical-align: top;\n",
       "    }\n",
       "\n",
       "    .dataframe thead th {\n",
       "        text-align: right;\n",
       "    }\n",
       "</style>\n",
       "<table border=\"1\" class=\"dataframe\">\n",
       "  <thead>\n",
       "    <tr style=\"text-align: right;\">\n",
       "      <th></th>\n",
       "      <th>customer_name</th>\n",
       "      <th>bank_name</th>\n",
       "      <th>trans_type</th>\n",
       "      <th>total_sale_price</th>\n",
       "    </tr>\n",
       "  </thead>\n",
       "  <tbody>\n",
       "    <tr>\n",
       "      <th>0</th>\n",
       "      <td>-</td>\n",
       "      <td>AB Bank Limited</td>\n",
       "      <td>card</td>\n",
       "      <td>329.00</td>\n",
       "    </tr>\n",
       "    <tr>\n",
       "      <th>1</th>\n",
       "      <td>-</td>\n",
       "      <td>Bangladesh Commerce Bank Limited</td>\n",
       "      <td>card</td>\n",
       "      <td>514.00</td>\n",
       "    </tr>\n",
       "    <tr>\n",
       "      <th>2</th>\n",
       "      <td>-</td>\n",
       "      <td>Bank Asia Limited</td>\n",
       "      <td>card</td>\n",
       "      <td>366.75</td>\n",
       "    </tr>\n",
       "    <tr>\n",
       "      <th>3</th>\n",
       "      <td>-</td>\n",
       "      <td>Bengal Commercial Bank Ltd</td>\n",
       "      <td>card</td>\n",
       "      <td>428.00</td>\n",
       "    </tr>\n",
       "    <tr>\n",
       "      <th>4</th>\n",
       "      <td>-</td>\n",
       "      <td>Bkash</td>\n",
       "      <td>mobile</td>\n",
       "      <td>786.00</td>\n",
       "    </tr>\n",
       "    <tr>\n",
       "      <th>...</th>\n",
       "      <td>...</td>\n",
       "      <td>...</td>\n",
       "      <td>...</td>\n",
       "      <td>...</td>\n",
       "    </tr>\n",
       "    <tr>\n",
       "      <th>168011</th>\n",
       "      <td>सानिया</td>\n",
       "      <td>Southeast Bank Limited</td>\n",
       "      <td>card</td>\n",
       "      <td>140.00</td>\n",
       "    </tr>\n",
       "    <tr>\n",
       "      <th>168012</th>\n",
       "      <td>सानिया</td>\n",
       "      <td>Standard Bank Limited</td>\n",
       "      <td>card</td>\n",
       "      <td>368.25</td>\n",
       "    </tr>\n",
       "    <tr>\n",
       "      <th>168013</th>\n",
       "      <td>सानिया</td>\n",
       "      <td>Trust Bank Limited</td>\n",
       "      <td>card</td>\n",
       "      <td>254.00</td>\n",
       "    </tr>\n",
       "    <tr>\n",
       "      <th>168014</th>\n",
       "      <td>सानिया</td>\n",
       "      <td>United Commercial Bank Ltd</td>\n",
       "      <td>card</td>\n",
       "      <td>231.00</td>\n",
       "    </tr>\n",
       "    <tr>\n",
       "      <th>168015</th>\n",
       "      <td>सानिया</td>\n",
       "      <td>Uttara Bank Limited</td>\n",
       "      <td>card</td>\n",
       "      <td>905.00</td>\n",
       "    </tr>\n",
       "  </tbody>\n",
       "</table>\n",
       "<p>168016 rows × 4 columns</p>\n",
       "</div>"
      ],
      "text/plain": [
       "       customer_name                         bank_name trans_type  \\\n",
       "0                  -                   AB Bank Limited       card   \n",
       "1                  -  Bangladesh Commerce Bank Limited       card   \n",
       "2                  -                 Bank Asia Limited       card   \n",
       "3                  -        Bengal Commercial Bank Ltd       card   \n",
       "4                  -                             Bkash     mobile   \n",
       "...              ...                               ...        ...   \n",
       "168011        सानिया            Southeast Bank Limited       card   \n",
       "168012        सानिया             Standard Bank Limited       card   \n",
       "168013        सानिया                Trust Bank Limited       card   \n",
       "168014        सानिया        United Commercial Bank Ltd       card   \n",
       "168015        सानिया               Uttara Bank Limited       card   \n",
       "\n",
       "        total_sale_price  \n",
       "0                 329.00  \n",
       "1                 514.00  \n",
       "2                 366.75  \n",
       "3                 428.00  \n",
       "4                 786.00  \n",
       "...                  ...  \n",
       "168011            140.00  \n",
       "168012            368.25  \n",
       "168013            254.00  \n",
       "168014            231.00  \n",
       "168015            905.00  \n",
       "\n",
       "[168016 rows x 4 columns]"
      ]
     },
     "metadata": {},
     "output_type": "display_data"
    }
   ],
   "source": [
    "con = PostgresConnection().getConnection()\n",
    "\n",
    "query = '''\n",
    "SELECT cd.name as customer_name, td2.bank_name, td2.trans_type, SUM(ft.total_price) as total_sale_price\n",
    "FROM ecomdb.fact_table ft\n",
    "JOIN ecomdb.time_dim td ON ft.time_key = td.time_key\n",
    "JOIN ecomdb.item_dim id ON ft.item_key = id.item_key\n",
    "JOIN ecomdb.customer_dim cd ON ft.customer_key = cd.customer_key\n",
    "JOIN ecomdb.trans_dim td2 ON ft.payment_key = td2.payment_key\n",
    "JOIN ecomdb.store_dim sd ON ft.store_key = sd.store_key\n",
    "GROUP BY cd.name, td2.bank_name, td2.trans_type\n",
    "ORDER BY cd.name, td2.bank_name, td2.trans_type\n",
    "'''\n",
    "\n",
    "# Load the query results into a pandas dataframe\n",
    "df = pd.read_sql_query(query, con)\n",
    "\n",
    "# Close the database connection\n",
    "con.close()\n",
    "\n",
    "# Show the resulting dataframe\n",
    "display(df)"
   ]
  },
  {
   "cell_type": "code",
   "execution_count": 8,
   "id": "dc9dee21",
   "metadata": {},
   "outputs": [
    {
     "ename": "NameError",
     "evalue": "name 'c' is not defined",
     "output_type": "error",
     "traceback": [
      "\u001b[1;31m---------------------------------------------------------------------------\u001b[0m",
      "\u001b[1;31mNameError\u001b[0m                                 Traceback (most recent call last)",
      "\u001b[1;32m<ipython-input-8-f808fe1645d4>\u001b[0m in \u001b[0;36m<module>\u001b[1;34m\u001b[0m\n\u001b[0;32m      6\u001b[0m \u001b[0mos\u001b[0m\u001b[1;33m.\u001b[0m\u001b[0menviron\u001b[0m\u001b[1;33m[\u001b[0m\u001b[1;34m'JUPYTER_RUNTIME_DIR'\u001b[0m\u001b[1;33m]\u001b[0m \u001b[1;33m=\u001b[0m \u001b[1;34m'/path/to/runtime/folder'\u001b[0m\u001b[1;33m\u001b[0m\u001b[1;33m\u001b[0m\u001b[0m\n\u001b[0;32m      7\u001b[0m \u001b[1;33m\u001b[0m\u001b[0m\n\u001b[1;32m----> 8\u001b[1;33m \u001b[0mc\u001b[0m\u001b[1;33m.\u001b[0m\u001b[0mNotebookApp\u001b[0m\u001b[1;33m.\u001b[0m\u001b[0miopub_data_rate_limit\u001b[0m \u001b[1;33m=\u001b[0m \u001b[1;36m1.0e10\u001b[0m\u001b[1;33m\u001b[0m\u001b[1;33m\u001b[0m\u001b[0m\n\u001b[0m",
      "\u001b[1;31mNameError\u001b[0m: name 'c' is not defined"
     ]
    }
   ],
   "source": [
    "import ipykernel\n",
    "ipykernel.get_connection_file()\n",
    "# this will return something like: 'kernel-12345.json'\n",
    "\n",
    "import os\n",
    "os.environ['JUPYTER_RUNTIME_DIR'] = '/path/to/runtime/folder'\n",
    "\n",
    "c.NotebookApp.iopub_data_rate_limit = 1.0e10\n"
   ]
  },
  {
   "cell_type": "markdown",
   "id": "c80526f8",
   "metadata": {},
   "source": [
    "# Q3"
   ]
  },
  {
   "cell_type": "code",
   "execution_count": 9,
   "id": "60b9a3ab",
   "metadata": {},
   "outputs": [
    {
     "name": "stdout",
     "output_type": "stream",
     "text": [
      "succesfully connected to database\n"
     ]
    },
    {
     "data": {
      "text/html": [
       "<div>\n",
       "<style scoped>\n",
       "    .dataframe tbody tr th:only-of-type {\n",
       "        vertical-align: middle;\n",
       "    }\n",
       "\n",
       "    .dataframe tbody tr th {\n",
       "        vertical-align: top;\n",
       "    }\n",
       "\n",
       "    .dataframe thead th {\n",
       "        text-align: right;\n",
       "    }\n",
       "</style>\n",
       "<table border=\"1\" class=\"dataframe\">\n",
       "  <thead>\n",
       "    <tr style=\"text-align: right;\">\n",
       "      <th></th>\n",
       "      <th>total_sales</th>\n",
       "    </tr>\n",
       "  </thead>\n",
       "  <tbody>\n",
       "    <tr>\n",
       "      <th>0</th>\n",
       "      <td>12982.5</td>\n",
       "    </tr>\n",
       "  </tbody>\n",
       "</table>\n",
       "</div>"
      ],
      "text/plain": [
       "   total_sales\n",
       "0      12982.5"
      ]
     },
     "metadata": {},
     "output_type": "display_data"
    }
   ],
   "source": [
    "con = PostgresConnection().getConnection()\n",
    "\n",
    "query = '''\n",
    "SELECT SUM(ft.total_price) AS total_sales\n",
    "FROM ecomdb.Fact_table ft\n",
    "JOIN ecomdb.Time_dim td ON ft.time_key = td.time_key\n",
    "JOIN ecomdb.Item_dim itd ON ft.item_key = itd.item_key\n",
    "JOIN ecomdb.Store_dim std ON ft.store_key = std.store_key\n",
    "WHERE std.district = 'BARISAL' AND itd.item_name = 'Pepsi - 12 oz cans'\n",
    "\n",
    "'''\n",
    "\n",
    "# Load the query results into a pandas dataframe\n",
    "df = pd.read_sql_query(query, con)\n",
    "\n",
    "# Close the database connection\n",
    "con.close()\n",
    "\n",
    "# Show the resulting dataframe\n",
    "display(df)"
   ]
  },
  {
   "cell_type": "markdown",
   "id": "ab86e7a8",
   "metadata": {},
   "source": [
    "# Q4"
   ]
  },
  {
   "cell_type": "code",
   "execution_count": 10,
   "id": "0f389b72",
   "metadata": {},
   "outputs": [
    {
     "name": "stdout",
     "output_type": "stream",
     "text": [
      "succesfully connected to database\n"
     ]
    },
    {
     "data": {
      "text/html": [
       "<div>\n",
       "<style scoped>\n",
       "    .dataframe tbody tr th:only-of-type {\n",
       "        vertical-align: middle;\n",
       "    }\n",
       "\n",
       "    .dataframe tbody tr th {\n",
       "        vertical-align: top;\n",
       "    }\n",
       "\n",
       "    .dataframe thead th {\n",
       "        text-align: right;\n",
       "    }\n",
       "</style>\n",
       "<table border=\"1\" class=\"dataframe\">\n",
       "  <thead>\n",
       "    <tr style=\"text-align: right;\">\n",
       "      <th></th>\n",
       "      <th>supplier</th>\n",
       "      <th>total_sale_price</th>\n",
       "    </tr>\n",
       "  </thead>\n",
       "  <tbody>\n",
       "    <tr>\n",
       "      <th>0</th>\n",
       "      <td>BIGSO AB</td>\n",
       "      <td>1685691.75</td>\n",
       "    </tr>\n",
       "  </tbody>\n",
       "</table>\n",
       "</div>"
      ],
      "text/plain": [
       "   supplier  total_sale_price\n",
       "0  BIGSO AB        1685691.75"
      ]
     },
     "metadata": {},
     "output_type": "display_data"
    }
   ],
   "source": [
    "con = PostgresConnection().getConnection()\n",
    "\n",
    "query = '''\n",
    "SELECT id.supplier, SUM(ft.total_price) as total_sale_price\n",
    "FROM ecomdb.fact_table ft\n",
    "JOIN ecomdb.time_dim td ON ft.time_key = td.time_key AND td.year = 2015\n",
    "JOIN ecomdb.item_dim id ON ft.item_key = id.item_key\n",
    "WHERE id.supplier = 'BIGSO AB'\n",
    "GROUP BY id.supplier\n",
    "ORDER BY id.supplier;\n",
    "\n",
    "'''\n",
    "\n",
    "# Load the query results into a pandas dataframe\n",
    "df = pd.read_sql_query(query, con)\n",
    "\n",
    "# Close the database connection\n",
    "con.close()\n",
    "\n",
    "# Show the resulting dataframe\n",
    "display(df)"
   ]
  },
  {
   "cell_type": "markdown",
   "id": "600757da",
   "metadata": {},
   "source": [
    "# Q5"
   ]
  },
  {
   "cell_type": "code",
   "execution_count": 11,
   "id": "46b3e76d",
   "metadata": {},
   "outputs": [
    {
     "name": "stdout",
     "output_type": "stream",
     "text": [
      "succesfully connected to database\n"
     ]
    },
    {
     "data": {
      "text/html": [
       "<div>\n",
       "<style scoped>\n",
       "    .dataframe tbody tr th:only-of-type {\n",
       "        vertical-align: middle;\n",
       "    }\n",
       "\n",
       "    .dataframe tbody tr th {\n",
       "        vertical-align: top;\n",
       "    }\n",
       "\n",
       "    .dataframe thead th {\n",
       "        text-align: right;\n",
       "    }\n",
       "</style>\n",
       "<table border=\"1\" class=\"dataframe\">\n",
       "  <thead>\n",
       "    <tr style=\"text-align: right;\">\n",
       "      <th></th>\n",
       "      <th>district</th>\n",
       "      <th>total_sale_price</th>\n",
       "    </tr>\n",
       "  </thead>\n",
       "  <tbody>\n",
       "    <tr>\n",
       "      <th>0</th>\n",
       "      <td>DHAKA</td>\n",
       "      <td>3399121.5</td>\n",
       "    </tr>\n",
       "  </tbody>\n",
       "</table>\n",
       "</div>"
      ],
      "text/plain": [
       "  district  total_sale_price\n",
       "0    DHAKA         3399121.5"
      ]
     },
     "metadata": {},
     "output_type": "display_data"
    }
   ],
   "source": [
    "con = PostgresConnection().getConnection()\n",
    "\n",
    "query = '''\n",
    "SELECT sd.district, SUM(ft.total_price) as total_sale_price\n",
    "FROM ecomdb.fact_table ft\n",
    "JOIN ecomdb.time_dim td ON ft.time_key = td.time_key\n",
    "JOIN ecomdb.item_dim id ON ft.item_key = id.item_key\n",
    "JOIN ecomdb.customer_dim cd ON ft.customer_key = cd.customer_key\n",
    "JOIN ecomdb.trans_dim td2 ON ft.payment_key = td2.payment_key\n",
    "JOIN ecomdb.store_dim sd ON ft.store_key = sd.store_key\n",
    "WHERE sd.district = 'DHAKA' AND td.year = 2015\n",
    "GROUP BY sd.district\n",
    "\n",
    "'''\n",
    "\n",
    "# Load the query results into a pandas dataframe\n",
    "df = pd.read_sql_query(query, con)\n",
    "\n",
    "# Close the database connection\n",
    "con.close()\n",
    "\n",
    "# Show the resulting dataframe\n",
    "display(df)"
   ]
  },
  {
   "cell_type": "markdown",
   "id": "3c3f1fa7",
   "metadata": {},
   "source": [
    "# Q6"
   ]
  },
  {
   "cell_type": "code",
   "execution_count": 12,
   "id": "fe742f96",
   "metadata": {},
   "outputs": [
    {
     "name": "stdout",
     "output_type": "stream",
     "text": [
      "succesfully connected to database\n"
     ]
    },
    {
     "data": {
      "text/html": [
       "<div>\n",
       "<style scoped>\n",
       "    .dataframe tbody tr th:only-of-type {\n",
       "        vertical-align: middle;\n",
       "    }\n",
       "\n",
       "    .dataframe tbody tr th {\n",
       "        vertical-align: top;\n",
       "    }\n",
       "\n",
       "    .dataframe thead th {\n",
       "        text-align: right;\n",
       "    }\n",
       "</style>\n",
       "<table border=\"1\" class=\"dataframe\">\n",
       "  <thead>\n",
       "    <tr style=\"text-align: right;\">\n",
       "      <th></th>\n",
       "      <th>store</th>\n",
       "      <th>item</th>\n",
       "      <th>quantity_sold</th>\n",
       "    </tr>\n",
       "  </thead>\n",
       "  <tbody>\n",
       "    <tr>\n",
       "      <th>0</th>\n",
       "      <td>S0001</td>\n",
       "      <td>Pepsi - 12 oz cans</td>\n",
       "      <td>92</td>\n",
       "    </tr>\n",
       "    <tr>\n",
       "      <th>1</th>\n",
       "      <td>S0001</td>\n",
       "      <td>Muscle Milk Protein Shake Van. 11oz</td>\n",
       "      <td>90</td>\n",
       "    </tr>\n",
       "    <tr>\n",
       "      <th>2</th>\n",
       "      <td>S0001</td>\n",
       "      <td>Hefty Supreme Foam Plates 6 inch</td>\n",
       "      <td>78</td>\n",
       "    </tr>\n",
       "  </tbody>\n",
       "</table>\n",
       "</div>"
      ],
      "text/plain": [
       "   store                                 item  quantity_sold\n",
       "0  S0001                   Pepsi - 12 oz cans             92\n",
       "1  S0001  Muscle Milk Protein Shake Van. 11oz             90\n",
       "2  S0001     Hefty Supreme Foam Plates 6 inch             78"
      ]
     },
     "metadata": {},
     "output_type": "display_data"
    }
   ],
   "source": [
    "con = PostgresConnection().getConnection()\n",
    "\n",
    "query = '''\n",
    "\n",
    "            SELECT store_dim.store_key AS Store, \n",
    "                   item_dim.item_name AS Item, \n",
    "                   SUM(fact_table.quantity) AS Quantity_Sold\n",
    "            FROM ecomdb.fact_table\n",
    "            JOIN ecomdb.store_dim ON fact_table.store_key = store_dim.store_key\n",
    "            JOIN ecomdb.item_dim ON fact_table.item_key = item_dim.item_key\n",
    "            GROUP BY store_dim.store_key, item_dim.item_name\n",
    "            ORDER BY store_dim.store_key, SUM(fact_table.quantity) DESC\n",
    "            LIMIT 3;\n",
    "           \n",
    "'''\n",
    "\n",
    "# Load the query results into a pandas dataframe\n",
    "df = pd.read_sql_query(query, con)\n",
    "\n",
    "# Close the database connection\n",
    "con.close()\n",
    "\n",
    "# Show the resulting dataframe\n",
    "display(df)"
   ]
  },
  {
   "cell_type": "markdown",
   "id": "ed601268",
   "metadata": {},
   "source": [
    "#Q7"
   ]
  },
  {
   "cell_type": "code",
   "execution_count": 15,
   "id": "f36ec0b1",
   "metadata": {},
   "outputs": [
    {
     "name": "stdout",
     "output_type": "stream",
     "text": [
      "succesfully connected to database\n"
     ]
    },
    {
     "ename": "DatabaseError",
     "evalue": "Execution failed on sql '\n\n            SELECT DISTINCT ecomdb.item_dim.item_name\n            FROM ecomdb.fact_table\n            JOIN ecomdb.time_dim ON ecomdb.fact_table.time_key = ecomdb.time_dim.time_key\n            JOIN ecomdb.trans_dim ON ecomdb.fact_table.payment_key = ecomdb.trans_dim.payment_key\n            JOIN ecomdb.item_dim ON ecomdb.fact_table.item_key = ecomdb.item_dim.item_key\n            WHERE (ecomdb.trans_dim.trans_type = 'card' OR ecomdb.trans_dim.trans_type = 'mobile')\n                AND ecomdb.time_dim.date >= current_date - INTERVAL '{self.days} days'\n           \n': invalid input syntax for type interval: \"{self.days} days\"\nLINE 9: ...D ecomdb.time_dim.date >= current_date - INTERVAL '{self.day...\n                                                             ^\n",
     "output_type": "error",
     "traceback": [
      "\u001b[1;31m---------------------------------------------------------------------------\u001b[0m",
      "\u001b[1;31mInvalidDatetimeFormat\u001b[0m                     Traceback (most recent call last)",
      "\u001b[1;32mc:\\users\\tech land\\appdata\\local\\programs\\python\\python38\\lib\\site-packages\\pandas\\io\\sql.py\u001b[0m in \u001b[0;36mexecute\u001b[1;34m(self, *args, **kwargs)\u001b[0m\n\u001b[0;32m   1585\u001b[0m         \u001b[1;32mtry\u001b[0m\u001b[1;33m:\u001b[0m\u001b[1;33m\u001b[0m\u001b[1;33m\u001b[0m\u001b[0m\n\u001b[1;32m-> 1586\u001b[1;33m             \u001b[0mcur\u001b[0m\u001b[1;33m.\u001b[0m\u001b[0mexecute\u001b[0m\u001b[1;33m(\u001b[0m\u001b[1;33m*\u001b[0m\u001b[0margs\u001b[0m\u001b[1;33m,\u001b[0m \u001b[1;33m**\u001b[0m\u001b[0mkwargs\u001b[0m\u001b[1;33m)\u001b[0m\u001b[1;33m\u001b[0m\u001b[1;33m\u001b[0m\u001b[0m\n\u001b[0m\u001b[0;32m   1587\u001b[0m             \u001b[1;32mreturn\u001b[0m \u001b[0mcur\u001b[0m\u001b[1;33m\u001b[0m\u001b[1;33m\u001b[0m\u001b[0m\n",
      "\u001b[1;31mInvalidDatetimeFormat\u001b[0m: invalid input syntax for type interval: \"{self.days} days\"\nLINE 9: ...D ecomdb.time_dim.date >= current_date - INTERVAL '{self.day...\n                                                             ^\n",
      "\nThe above exception was the direct cause of the following exception:\n",
      "\u001b[1;31mDatabaseError\u001b[0m                             Traceback (most recent call last)",
      "\u001b[1;32m<ipython-input-15-6ce0d6c0bd45>\u001b[0m in \u001b[0;36m<module>\u001b[1;34m\u001b[0m\n\u001b[0;32m     21\u001b[0m \u001b[1;33m\u001b[0m\u001b[0m\n\u001b[0;32m     22\u001b[0m \u001b[1;31m# Load the query results into a pandas dataframe\u001b[0m\u001b[1;33m\u001b[0m\u001b[1;33m\u001b[0m\u001b[1;33m\u001b[0m\u001b[0m\n\u001b[1;32m---> 23\u001b[1;33m \u001b[0mdf\u001b[0m \u001b[1;33m=\u001b[0m \u001b[0mpd\u001b[0m\u001b[1;33m.\u001b[0m\u001b[0mread_sql_query\u001b[0m\u001b[1;33m(\u001b[0m\u001b[0mquery\u001b[0m\u001b[1;33m,\u001b[0m \u001b[0mcon\u001b[0m\u001b[1;33m)\u001b[0m\u001b[1;33m\u001b[0m\u001b[1;33m\u001b[0m\u001b[0m\n\u001b[0m\u001b[0;32m     24\u001b[0m \u001b[1;33m\u001b[0m\u001b[0m\n\u001b[0;32m     25\u001b[0m \u001b[1;31m# Close the database connection\u001b[0m\u001b[1;33m\u001b[0m\u001b[1;33m\u001b[0m\u001b[1;33m\u001b[0m\u001b[0m\n",
      "\u001b[1;32mc:\\users\\tech land\\appdata\\local\\programs\\python\\python38\\lib\\site-packages\\pandas\\io\\sql.py\u001b[0m in \u001b[0;36mread_sql_query\u001b[1;34m(sql, con, index_col, coerce_float, params, parse_dates, chunksize)\u001b[0m\n\u001b[0;32m    324\u001b[0m     \"\"\"\n\u001b[0;32m    325\u001b[0m     \u001b[0mpandas_sql\u001b[0m \u001b[1;33m=\u001b[0m \u001b[0mpandasSQL_builder\u001b[0m\u001b[1;33m(\u001b[0m\u001b[0mcon\u001b[0m\u001b[1;33m)\u001b[0m\u001b[1;33m\u001b[0m\u001b[1;33m\u001b[0m\u001b[0m\n\u001b[1;32m--> 326\u001b[1;33m     return pandas_sql.read_query(\n\u001b[0m\u001b[0;32m    327\u001b[0m         \u001b[0msql\u001b[0m\u001b[1;33m,\u001b[0m\u001b[1;33m\u001b[0m\u001b[1;33m\u001b[0m\u001b[0m\n\u001b[0;32m    328\u001b[0m         \u001b[0mindex_col\u001b[0m\u001b[1;33m=\u001b[0m\u001b[0mindex_col\u001b[0m\u001b[1;33m,\u001b[0m\u001b[1;33m\u001b[0m\u001b[1;33m\u001b[0m\u001b[0m\n",
      "\u001b[1;32mc:\\users\\tech land\\appdata\\local\\programs\\python\\python38\\lib\\site-packages\\pandas\\io\\sql.py\u001b[0m in \u001b[0;36mread_query\u001b[1;34m(self, sql, index_col, coerce_float, params, parse_dates, chunksize)\u001b[0m\n\u001b[0;32m   1631\u001b[0m \u001b[1;33m\u001b[0m\u001b[0m\n\u001b[0;32m   1632\u001b[0m         \u001b[0margs\u001b[0m \u001b[1;33m=\u001b[0m \u001b[0m_convert_params\u001b[0m\u001b[1;33m(\u001b[0m\u001b[0msql\u001b[0m\u001b[1;33m,\u001b[0m \u001b[0mparams\u001b[0m\u001b[1;33m)\u001b[0m\u001b[1;33m\u001b[0m\u001b[1;33m\u001b[0m\u001b[0m\n\u001b[1;32m-> 1633\u001b[1;33m         \u001b[0mcursor\u001b[0m \u001b[1;33m=\u001b[0m \u001b[0mself\u001b[0m\u001b[1;33m.\u001b[0m\u001b[0mexecute\u001b[0m\u001b[1;33m(\u001b[0m\u001b[1;33m*\u001b[0m\u001b[0margs\u001b[0m\u001b[1;33m)\u001b[0m\u001b[1;33m\u001b[0m\u001b[1;33m\u001b[0m\u001b[0m\n\u001b[0m\u001b[0;32m   1634\u001b[0m         \u001b[0mcolumns\u001b[0m \u001b[1;33m=\u001b[0m \u001b[1;33m[\u001b[0m\u001b[0mcol_desc\u001b[0m\u001b[1;33m[\u001b[0m\u001b[1;36m0\u001b[0m\u001b[1;33m]\u001b[0m \u001b[1;32mfor\u001b[0m \u001b[0mcol_desc\u001b[0m \u001b[1;32min\u001b[0m \u001b[0mcursor\u001b[0m\u001b[1;33m.\u001b[0m\u001b[0mdescription\u001b[0m\u001b[1;33m]\u001b[0m\u001b[1;33m\u001b[0m\u001b[1;33m\u001b[0m\u001b[0m\n\u001b[0;32m   1635\u001b[0m \u001b[1;33m\u001b[0m\u001b[0m\n",
      "\u001b[1;32mc:\\users\\tech land\\appdata\\local\\programs\\python\\python38\\lib\\site-packages\\pandas\\io\\sql.py\u001b[0m in \u001b[0;36mexecute\u001b[1;34m(self, *args, **kwargs)\u001b[0m\n\u001b[0;32m   1596\u001b[0m \u001b[1;33m\u001b[0m\u001b[0m\n\u001b[0;32m   1597\u001b[0m             \u001b[0mex\u001b[0m \u001b[1;33m=\u001b[0m \u001b[0mDatabaseError\u001b[0m\u001b[1;33m(\u001b[0m\u001b[1;34mf\"Execution failed on sql '{args[0]}': {exc}\"\u001b[0m\u001b[1;33m)\u001b[0m\u001b[1;33m\u001b[0m\u001b[1;33m\u001b[0m\u001b[0m\n\u001b[1;32m-> 1598\u001b[1;33m             \u001b[1;32mraise\u001b[0m \u001b[0mex\u001b[0m \u001b[1;32mfrom\u001b[0m \u001b[0mexc\u001b[0m\u001b[1;33m\u001b[0m\u001b[1;33m\u001b[0m\u001b[0m\n\u001b[0m\u001b[0;32m   1599\u001b[0m \u001b[1;33m\u001b[0m\u001b[0m\n\u001b[0;32m   1600\u001b[0m     \u001b[1;33m@\u001b[0m\u001b[0mstaticmethod\u001b[0m\u001b[1;33m\u001b[0m\u001b[1;33m\u001b[0m\u001b[0m\n",
      "\u001b[1;31mDatabaseError\u001b[0m: Execution failed on sql '\n\n            SELECT DISTINCT ecomdb.item_dim.item_name\n            FROM ecomdb.fact_table\n            JOIN ecomdb.time_dim ON ecomdb.fact_table.time_key = ecomdb.time_dim.time_key\n            JOIN ecomdb.trans_dim ON ecomdb.fact_table.payment_key = ecomdb.trans_dim.payment_key\n            JOIN ecomdb.item_dim ON ecomdb.fact_table.item_key = ecomdb.item_dim.item_key\n            WHERE (ecomdb.trans_dim.trans_type = 'card' OR ecomdb.trans_dim.trans_type = 'mobile')\n                AND ecomdb.time_dim.date >= current_date - INTERVAL '{self.days} days'\n           \n': invalid input syntax for type interval: \"{self.days} days\"\nLINE 9: ...D ecomdb.time_dim.date >= current_date - INTERVAL '{self.day...\n                                                             ^\n"
     ]
    }
   ],
   "source": [
    "class RecentItems:\n",
    "    def __init__(self, db_connection, days):\n",
    "        self.db_connection = db_connection\n",
    "        self.days = days\n",
    "\n",
    "\n",
    "\n",
    "con = PostgresConnection().getConnection()\n",
    "\n",
    "query = '''\n",
    "\n",
    "            SELECT DISTINCT ecomdb.item_dim.item_name\n",
    "            FROM ecomdb.fact_table\n",
    "            JOIN ecomdb.time_dim ON ecomdb.fact_table.time_key = ecomdb.time_dim.time_key\n",
    "            JOIN ecomdb.trans_dim ON ecomdb.fact_table.payment_key = ecomdb.trans_dim.payment_key\n",
    "            JOIN ecomdb.item_dim ON ecomdb.fact_table.item_key = ecomdb.item_dim.item_key\n",
    "            WHERE (ecomdb.trans_dim.trans_type = 'card' OR ecomdb.trans_dim.trans_type = 'mobile')\n",
    "                AND ecomdb.time_dim.date >= current_date - INTERVAL '{self.days} days'\n",
    "           \n",
    "'''\n",
    "\n",
    "# Load the query results into a pandas dataframe\n",
    "df = pd.read_sql_query(query, con)\n",
    "\n",
    "# Close the database connection\n",
    "con.close()\n",
    "\n",
    "# Show the resulting dataframe\n",
    "display(df)"
   ]
  },
  {
   "cell_type": "code",
   "execution_count": null,
   "id": "9e34c30e",
   "metadata": {},
   "outputs": [],
   "source": [
    "#Q8"
   ]
  },
  {
   "cell_type": "code",
   "execution_count": null,
   "id": "6c7884c9",
   "metadata": {},
   "outputs": [],
   "source": [
    "con = PostgresConnection().getConnection()\n",
    "\n",
    "query = '''\n",
    "SELECT ecom_schema.item_dim.item_name, ecom_schema.time_dim.quarter,\n",
    "SUM(ecom_schema.fact_table.quantity) AS quantity_sales\n",
    "FROM ecom_schema.fact_table\n",
    "JOIN ecom_schema.item_dim ON ecom_schema.fact_table.item_key = ecom_schema.item_dim.item_key\n",
    "JOIN ecom_schema.time_dim ON ecom_schema.fact_table.time_key = ecom_schema.time_dim.time_key\n",
    "GROUP BY ROLLUP(ecom_schema.item_dim.item_name, ecom_schema.time_dim.quarter)\n",
    "HAVING ecom_schema.item_dim.item_name IS NOT NULL AND ecom_schema.time_dim.quarter IS NOT NULL\n",
    "ORDER BY ecom_schema.item_dim.item_name, SUM(ecom_schema.fact_table.quantity) ASC\n",
    "\n",
    "'''\n",
    "\n",
    "# Load the query results into a pandas dataframe\n",
    "df = pd.read_sql_query(query, con)\n",
    "\n",
    "# Close the database connection\n",
    "con.close()\n",
    "\n",
    "# Show the resulting dataframe\n",
    "display(df)"
   ]
  },
  {
   "cell_type": "markdown",
   "id": "f3602190",
   "metadata": {},
   "source": [
    "#Q9"
   ]
  },
  {
   "cell_type": "code",
   "execution_count": null,
   "id": "a6ec00f0",
   "metadata": {},
   "outputs": [],
   "source": [
    " con = PostgresConnection().getConnection()\n",
    "\n",
    "query = '''\n",
    "\n",
    "            SELECT ecom_schema.item_dim.item_name, ecom_schema.time_dim.quarter,\n",
    "                SUM(ecom_schema.fact_table.quantity) AS quantity_sales\n",
    "            FROM ecom_schema.fact_table\n",
    "            JOIN ecom_schema.item_dim ON ecom_schema.fact_table.item_key = ecom_schema.item_dim.item_key\n",
    "            JOIN ecom_schema.time_dim ON ecom_schema.fact_table.time_key = ecom_schema.time_dim.time_key\n",
    "            GROUP BY ROLLUP(ecom_schema.item_dim.item_name, ecom_schema.time_dim.quarter)\n",
    "            HAVING ecom_schema.item_dim.item_name IS NOT NULL AND ecom_schema.time_dim.quarter IS NOT NULL\n",
    "            ORDER BY ecom_schema.item_dim.item_name, SUM(ecom_schema.fact_table.quantity) ASC\n",
    "           \n",
    "           \n",
    "'''\n",
    "\n",
    "# Load the query results into a pandas dataframe\n",
    "df = pd.read_sql_query(query, con)\n",
    "\n",
    "# Close the database connection\n",
    "con.close()\n",
    "\n",
    "# Show the resulting dataframe\n",
    "display(df)"
   ]
  },
  {
   "cell_type": "markdown",
   "id": "fc434cbe",
   "metadata": {},
   "source": [
    "#Q10"
   ]
  },
  {
   "cell_type": "code",
   "execution_count": null,
   "id": "9931a816",
   "metadata": {},
   "outputs": [],
   "source": [
    " con = PostgresConnection().getConnection()\n",
    "\n",
    "query = '''\n",
    "\n",
    "            SELECT ecom_schema.item_dim.item_name, ecom_schema.store_dim.division, SUM(ecom_schema.fact_table.total_price) AS total_sales\n",
    "            FROM ecom_schema.fact_table\n",
    "            JOIN ecom_schema.item_dim ON ecom_schema.fact_table.item_key = ecom_schema.item_dim.item_key\n",
    "            JOIN ecom_schema.store_dim ON ecom_schema.fact_table.store_key = ecom_schema.store_dim.store_key\n",
    "            GROUP BY ROLLUP(ecom_schema.item_dim.item_name, ecom_schema.store_dim.division)\n",
    "            HAVING ecom_schema.item_dim.item_name IS NOT NULL AND ecom_schema.store_dim.division IS NOT NULL\n",
    "            ORDER BY ecom_schema.item_dim.item_name, SUM(ecom_schema.fact_table.total_price) DESC\n",
    "           \n",
    "'''\n",
    "\n",
    "# Load the query results into a pandas dataframe\n",
    "df = pd.read_sql_query(query, con)\n",
    "\n",
    "# Close the database connection\n",
    "con.close()\n",
    "\n",
    "# Show the resulting dataframe\n",
    "display(df)"
   ]
  }
 ],
 "metadata": {
  "kernelspec": {
   "display_name": "Python 3",
   "language": "python",
   "name": "python3"
  },
  "language_info": {
   "codemirror_mode": {
    "name": "ipython",
    "version": 3
   },
   "file_extension": ".py",
   "mimetype": "text/x-python",
   "name": "python",
   "nbconvert_exporter": "python",
   "pygments_lexer": "ipython3",
   "version": "3.8.3"
  }
 },
 "nbformat": 4,
 "nbformat_minor": 5
}
